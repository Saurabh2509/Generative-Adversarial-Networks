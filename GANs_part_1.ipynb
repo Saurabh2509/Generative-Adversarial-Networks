{
 "cells": [
  {
   "cell_type": "markdown",
   "id": "170aef71",
   "metadata": {},
   "source": [
    "# GANs [Generative Adversarial Networks]"
   ]
  },
  {
   "cell_type": "markdown",
   "id": "8c67358d",
   "metadata": {},
   "source": [
    "@Author : **Saurabh Kumar**  \n",
    "@date : **12-Jan**"
   ]
  },
  {
   "cell_type": "markdown",
   "id": "bba980ad",
   "metadata": {},
   "source": [
    "  ## Deep learning based geneative adversarial network"
   ]
  },
  {
   "cell_type": "markdown",
   "id": "70ee5225",
   "metadata": {},
   "source": [
    "### Generative Adversarial Networks, or GANs, are a deep-learning-based generative model.\n",
    "\n",
    "- More generally, GANs are a model architecture for training a generative model, and it is most common to use deep learning models in this architecture.\n",
    "\n",
    "- The GAN architecture was first described in the 2014 paper by Ian Goodfellow, et al. titled “Generative Adversarial Networks.”\n",
    "\n",
    "- A standardized approach called Deep Convolutional Generative Adversarial Networks, or DCGAN, that led to more stable models was later formalizedby Alec Radford, et al. in the 2015 paper titled “Unsupervised Representation Learning with Deep Convolutional Generative Adversarial Networks\"."
   ]
  },
  {
   "cell_type": "markdown",
   "id": "83932cbe",
   "metadata": {},
   "source": [
    "Most GANs today are at least loosely based on the DCGAN architecture"
   ]
  },
  {
   "cell_type": "markdown",
   "id": "f2172769",
   "metadata": {},
   "source": [
    "### Architecture  :\n",
    "1. _Generator_\n",
    "2. _Descriminators_ \n",
    "\n",
    "Both are implemented as MLP (Multilayer Perceptron) "
   ]
  },
  {
   "cell_type": "markdown",
   "id": "609d0fe5",
   "metadata": {},
   "source": [
    "- **Generator** : Model that is used to generate new plausible examplefrom the problem domain "
   ]
  },
  {
   "cell_type": "markdown",
   "id": "3f850cd4",
   "metadata": {},
   "source": [
    "- **Descriminator** : Model that is used to classify examples as real ( from the domain) or fake (generated)"
   ]
  },
  {
   "cell_type": "markdown",
   "id": "731830d0",
   "metadata": {},
   "source": [
    "### Generative adversarial networks are based on a game theoretic scenario in which the generator network must compete against an adversary. The generator network directly produces samples. Its adversary, the discriminator network, attempts to distinguish between samples drawn from the training data and samples drawn from the generator\n"
   ]
  },
  {
   "cell_type": "markdown",
   "id": "86f8936c",
   "metadata": {},
   "source": [
    "## The Generator Model:\n",
    "\n",
    "- The generator model takes a fixed-length random vector as input and generates a sample in the domain.\n",
    "\n",
    "- The vector is drawn from randomly from a Gaussian distribution, and the vector is used to seed the generative process. After training, points in this multidimensional vector space will correspond to points in the problem domain, forming a compressed representation of the data distribution.\n",
    "\n",
    "- This vector space is referred to as a latent space, or a vector space comprised of latent variables. Latent variables, or hidden variables, are those variables that are important for a domain but are not directly observable."
   ]
  },
  {
   "cell_type": "markdown",
   "id": "05a2266f",
   "metadata": {},
   "source": [
    "- We often refer to latent variables, or a latent space, as a projection or compression of a data distribution. That is, a latent space provides a compression or high-level concepts of the observed raw data such as the input data distribution. In the case of GANs, the generator model applies meaning to points in a chosen latent space, such that new points drawn from the latent space can be provided to the generator model as input and used to generate new and different output examples."
   ]
  },
  {
   "attachments": {
    "Example-of-the-GAN-Generator-Model.png": {
     "image/png": "[encoded data removed]"
    }
   },
   "cell_type": "markdown",
   "id": "0fc26988",
   "metadata": {},
   "source": [
    "![Example-of-the-GAN-Generator-Model.png](attachment:Example-of-the-GAN-Generator-Model.png)"
   ]
  },
  {
   "cell_type": "markdown",
   "id": "3994bf8e",
   "metadata": {},
   "source": [
    "## The Discriminator Model"
   ]
  },
  {
   "cell_type": "markdown",
   "id": "41c76b0a",
   "metadata": {},
   "source": [
    "- The discriminator model takes an example from the domain as input (real or generated) and predicts a binary class label of real or fake (generated).\n",
    "\n",
    "- The real example comes from the training dataset. The generated examples are output by the generator model.\n",
    "\n",
    "- The discriminator is a normal (and well understood) classification model.\n",
    "\n",
    "- After the training process, the discriminator model is discarded as we are interested in the generator.\n",
    "\n",
    "- Sometimes, the generator can be repurposed as it has learned to effectively extract features from examples in the problem domain. Some or all of the feature extraction layers can be used in transfer learning applications using the same or similar input data."
   ]
  },
  {
   "attachments": {
    "Example-of-the-GAN-Discriminator-Model.png": {
     "image/png": "[encoded data removed]"
    }
   },
   "cell_type": "markdown",
   "id": "5187d4f1",
   "metadata": {},
   "source": [
    "![Example-of-the-GAN-Discriminator-Model.png](attachment:Example-of-the-GAN-Discriminator-Model.png)"
   ]
  },
  {
   "cell_type": "markdown",
   "id": "ae3adffa",
   "metadata": {},
   "source": [
    "# GANs as a Two Player Game"
   ]
  },
  {
   "cell_type": "markdown",
   "id": "2cae79cc",
   "metadata": {},
   "source": [
    "- Generative modeling is an unsupervised learning problem, although a clever property of the GAN architecture is that the training of the generative model is framed as a supervised learning problem.\n",
    "\n",
    "- The two models, the generator and discriminator, are trained together. The generator generates a batch of samples, and these, along with real examples from the domain, are provided to the discriminator and classified as real or fake.\n",
    "\n",
    "- The discriminator is then updated to get better at discriminating real and fake samples in the next round, and importantly, the generator is updated based on how well, or not, the generated samples fooled the discriminator."
   ]
  },
  {
   "cell_type": "markdown",
   "id": "1e0b06f8",
   "metadata": {},
   "source": [
    "**We can think of the generator as being like a counterfeiter, trying to make fake money, and the discriminator as being like police, trying to allow legitimate money and catch counterfeit money. To succeed in this game, the counterfeiter must learn to make money that is indistinguishable from genuine money, and the generator network must learn to create samples that are drawn from the same distribution as the training data.**"
   ]
  },
  {
   "cell_type": "markdown",
   "id": "233daa0a",
   "metadata": {},
   "source": [
    "In this way, the two models are competing against each other, they are **adversarial** in the game theory sense, and are playing a zero-sum game."
   ]
  },
  {
   "cell_type": "markdown",
   "id": "aa36aa4f",
   "metadata": {},
   "source": [
    "- In this case, zero-sum means that when the discriminator successfully identifies real and fake samples, it is rewarded or no change is needed to the model parameters, whereas the generator is penalized with large updates to model parameters.\n",
    "\n",
    "- Alternately, when the generator fools the discriminator, it is rewarded, or no change is needed to the model parameters, but the discriminator is penalized and its model parameters are updated.\n",
    "\n",
    "- At a limit, the generator generates perfect replicas from the input domain every time, and the discriminator cannot tell the difference and predicts “unsure” (e.g. 50% for real and fake) in every case. This is just an example of an idealized case; we do not need to get to this point to arrive at a useful generator model."
   ]
  },
  {
   "attachments": {
    "Example-of-the-Generative-Adversarial-Network-Model-Architecture.webp": {
     "image/webp": "[encoded data removed]"
    }
   },
   "cell_type": "markdown",
   "id": "fe52b06d",
   "metadata": {},
   "source": [
    "![Example-of-the-Generative-Adversarial-Network-Model-Architecture.webp](attachment:Example-of-the-Generative-Adversarial-Network-Model-Architecture.webp)"
   ]
  },
  {
   "cell_type": "markdown",
   "id": "d07fe221",
   "metadata": {},
   "source": [
    "> Training drives the discriminator to attempt to learn to correctly classify samples as real or fake. Simultaneously, the generator attempts to fool the classifier into believing its samples are real. At convergence, the generator’s samples are indistinguishable from real data, and the discriminator outputs 1/2 everywhere. The discriminator may then be discarded"
   ]
  },
  {
   "cell_type": "markdown",
   "id": "00b4c511",
   "metadata": {},
   "source": [
    "## GANs and Convolutional Neural Networks"
   ]
  },
  {
   "cell_type": "markdown",
   "id": "6b027cd3",
   "metadata": {},
   "source": [
    "- GANs typically work with image data and use Convolutional Neural Networks, or CNNs, as the generator and discriminator models."
   ]
  },
  {
   "cell_type": "markdown",
   "id": "87d199e5",
   "metadata": {},
   "source": [
    "- The reason for this may be both because the first description of the technique was in the field of computer vision and used CNNs and image data, and because of the remarkable progress that has been seen in recent years using CNNs more generally to achieve state-of-the-art results on a suite of computer vision tasks such as object detection and face recognition.\n",
    "\n",
    "- Modeling image data means that the latent space, the input to the generator, provides a compressed representation of the set of images or photographs used to train the model. It also means that the generator generates new images or photographs, providing an output that can be easily viewed and assessed by developers or users of the model.\n",
    "\n",
    "- It may be this fact above others, the ability to visually assess the quality of the generated output, that has both led to the focus of computer vision applications with CNNs and on the massive leaps in the capability of GANs as compared to other generative models, deep learning based or otherwise."
   ]
  },
  {
   "cell_type": "markdown",
   "id": "fff7e03e",
   "metadata": {},
   "source": [
    "## Why Generative Adversarial Networks?"
   ]
  },
  {
   "cell_type": "markdown",
   "id": "9bd3b6af",
   "metadata": {},
   "source": [
    "- One of the many major advancements in the use of deep learning methods in domains such as computer vision is a technique called data augmentation.\n",
    "\n",
    "- Data augmentation results in better performing models, both increasing model skill and providing a regularizing effect, reducing generalization error. It works by creating new, artificial but plausible examples from the input problem domain on which the model is trained.\n",
    "\n",
    "- The techniques are primitive in the case of image data, involving crops, flips, zooms, and other simple transforms of existing images in the training dataset.\n",
    "\n",
    "- Successful generative modeling provides an alternative and potentially more domain-specific approach for data augmentation. In fact, data augmentation is a simplified version of generative modeling, although it is rarely described this way."
   ]
  },
  {
   "cell_type": "markdown",
   "id": "55866f3e",
   "metadata": {},
   "source": [
    "## Gans Applications"
   ]
  },
  {
   "cell_type": "markdown",
   "id": "366bea49",
   "metadata": {},
   "source": [
    "1. **Image Super-Resolution** : The ability to generate high-resolution versions of input images.\n",
    "2. **Creating Art** : The ability to great new and artistic images, sketches, painting, and more.\n",
    "3. **Image-to-Image Translation** : The ability to translate photographs across domains,such as day to night,summer to winter,and more"
   ]
  },
  {
   "cell_type": "markdown",
   "id": "66d5b2a7",
   "metadata": {},
   "source": [
    "# !!! Thanks For Reading ...."
   ]
  },
  {
   "cell_type": "code",
   "execution_count": null,
   "id": "70713ff9",
   "metadata": {},
   "outputs": [],
   "source": []
  }
 ],
 "metadata": {
  "kernelspec": {
   "display_name": "TensorFlow-GPU",
   "language": "python",
   "name": "tfod"
  },
  "language_info": {
   "codemirror_mode": {
    "name": "ipython",
    "version": 3
   },
   "file_extension": ".py",
   "mimetype": "text/x-python",
   "name": "python",
   "nbconvert_exporter": "python",
   "pygments_lexer": "ipython3",
   "version": "3.6.13"
  }
 },
 "nbformat": 4,
 "nbformat_minor": 5
}
